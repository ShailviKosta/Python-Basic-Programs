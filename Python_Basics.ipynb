{
  "nbformat": 4,
  "nbformat_minor": 0,
  "metadata": {
    "colab": {
      "provenance": [],
      "collapsed_sections": [],
      "authorship_tag": "ABX9TyO+bogRQeWEP28rNMXJWyNx",
      "include_colab_link": true
    },
    "kernelspec": {
      "name": "python3",
      "display_name": "Python 3"
    },
    "language_info": {
      "name": "python"
    }
  },
  "cells": [
    {
      "cell_type": "markdown",
      "metadata": {
        "id": "view-in-github",
        "colab_type": "text"
      },
      "source": [
        "<a href=\"https://colab.research.google.com/github/ShailviKosta/Python-Basic-Programs/blob/main/Python_Basics.ipynb\" target=\"_parent\"><img src=\"https://colab.research.google.com/assets/colab-badge.svg\" alt=\"Open In Colab\"/></a>"
      ]
    },
    {
      "cell_type": "code",
      "execution_count": null,
      "metadata": {
        "colab": {
          "base_uri": "https://localhost:8080/"
        },
        "id": "jm9lGPF14whT",
        "outputId": "939b5d75-7808-4132-d3b2-e8100d9822a6"
      },
      "outputs": [
        {
          "output_type": "stream",
          "name": "stdout",
          "text": [
            "Enter a number15\n",
            "The number is odd\n"
          ]
        }
      ],
      "source": [
        "#Python program to check whether the given number is even or not.\n",
        "x = int(input(\"Enter a number\"))\n",
        "if x%2 == 0:\n",
        "  print(\"The number is even\")\n",
        "else:\n",
        "  print(\"The number is odd\")\n"
      ]
    },
    {
      "cell_type": "code",
      "source": [
        "#Python program to convert the temperature in degree centigrade to Fahrenheit\n",
        "temp = int(input(\"Enter the temperature in Degree Centigrade: \"))\n",
        "x = (temp*9/5) + 32\n",
        "print(\"The temperature in Fahernheit is: \", x)\n"
      ],
      "metadata": {
        "colab": {
          "base_uri": "https://localhost:8080/"
        },
        "id": "oNe_xcmh5P7s",
        "outputId": "e4448a69-6836-4a96-8e9a-3f008b05a4b4"
      },
      "execution_count": null,
      "outputs": [
        {
          "output_type": "stream",
          "name": "stdout",
          "text": [
            "Enter the temperature in Degree Centigrade: 49\n",
            "The temperature in Fahernheit is:  120.2\n"
          ]
        }
      ]
    },
    {
      "cell_type": "code",
      "source": [
        "#Python program to find the area of a triangle whose sides are given\n",
        "b = int(input(\"Enter the value of base: \"))\n",
        "h = int(input(\"Enter the value of height: \"))\n",
        "area = (1/2)*b*h\n",
        "print(\"The area of the triangle is: \", area)"
      ],
      "metadata": {
        "colab": {
          "base_uri": "https://localhost:8080/"
        },
        "id": "KyGCwLrT6Mcp",
        "outputId": "10635442-ea67-46eb-9393-3aae1906e266"
      },
      "execution_count": null,
      "outputs": [
        {
          "output_type": "stream",
          "name": "stdout",
          "text": [
            "Enter the value of base: 5\n",
            "Enter the value of height: 7\n",
            "The area of the triangle is:  17.5\n"
          ]
        }
      ]
    },
    {
      "cell_type": "code",
      "source": [
        "#Python program to find out the average of a set of integers\n",
        "a = [1,2,3,4,5]\n",
        "average = sum(a)/len(a)\n",
        "print(\"The average of the numbers is: \", average)"
      ],
      "metadata": {
        "colab": {
          "base_uri": "https://localhost:8080/"
        },
        "id": "O-sGEyYu62yp",
        "outputId": "dec3766e-1b0a-4ba8-91bd-52ce44a56fa7"
      },
      "execution_count": null,
      "outputs": [
        {
          "output_type": "stream",
          "name": "stdout",
          "text": [
            "The average of the numbers is:  3.0\n"
          ]
        }
      ]
    },
    {
      "cell_type": "code",
      "source": [
        "#Python program to find out the average of a first N natural numbers\n",
        "count = int(input(\"Enter the count: \"))\n",
        "sum = 0\n",
        "i = 0\n",
        "for i in range(count+1):\n",
        "  sum = sum+i\n",
        "  i = i+1\n",
        "avg = sum/count\n",
        "print(\"The average of the numbers is: \", avg)"
      ],
      "metadata": {
        "colab": {
          "base_uri": "https://localhost:8080/"
        },
        "id": "WpOB60yJ7LFV",
        "outputId": "44779d6c-b52d-430e-a2a0-f6f7738688c1"
      },
      "execution_count": null,
      "outputs": [
        {
          "output_type": "stream",
          "name": "stdout",
          "text": [
            "Enter the count: 5\n",
            "The average of the numbers is:  3.0\n"
          ]
        }
      ]
    },
    {
      "cell_type": "code",
      "source": [
        "#Python program to find out the average of a set of integers from user input\n",
        "count = int(input(\"Enter the count: \"))\n",
        "sum = 0\n",
        "i = 0\n",
        "for i in range(count):\n",
        "  x = int(input(\"Enter a number: \"))\n",
        "  sum = sum+x\n",
        "avg = sum/count\n",
        "print(\"The avg of the numbers is: \", avg)\n"
      ],
      "metadata": {
        "colab": {
          "base_uri": "https://localhost:8080/"
        },
        "id": "yTADqUx79D1T",
        "outputId": "e7a6de1e-3d9a-4dc8-ce4e-0fee80a48ba0"
      },
      "execution_count": null,
      "outputs": [
        {
          "output_type": "stream",
          "name": "stdout",
          "text": [
            "Enter the count: 5\n",
            "Enter a number: 1\n",
            "Enter a number: 2\n",
            "Enter a number: 3\n",
            "Enter a number: 4\n",
            "Enter a number: 5\n",
            "The avg of the numbers is:  3.0\n"
          ]
        }
      ]
    },
    {
      "cell_type": "code",
      "source": [
        "#Python program to find the product of a set of real numbers\n",
        "x = [3,5,6,2,8]\n",
        "prod = 1\n",
        "for i in x:\n",
        "  prod = prod*i\n",
        "  i+=1\n",
        "print(\"The product of the numbers is: \", prod)\n"
      ],
      "metadata": {
        "colab": {
          "base_uri": "https://localhost:8080/"
        },
        "id": "86N_sS3C9oNx",
        "outputId": "d4fe1add-fff2-41b0-f7e7-3b4785415ab9"
      },
      "execution_count": null,
      "outputs": [
        {
          "output_type": "stream",
          "name": "stdout",
          "text": [
            "The product of the numbers is:  1440\n"
          ]
        }
      ]
    },
    {
      "cell_type": "code",
      "source": [
        "#Python program to find the product of a set of real numbers from user input\n",
        "count = int(input(\"Enter the count of numbers: \"))\n",
        "prod = 1\n",
        "i=02\n",
        "for i in range(count):\n",
        "  x = float(input(\"Enter a number: \"))\n",
        "  prod = prod*x\n",
        "  i+=1\n",
        "print(\"The product of the numbers is: \", prod)"
      ],
      "metadata": {
        "colab": {
          "base_uri": "https://localhost:8080/"
        },
        "id": "ggi8Ik2a-Yqw",
        "outputId": "03c03214-b031-4e98-eaef-186ee6183012"
      },
      "execution_count": null,
      "outputs": [
        {
          "output_type": "stream",
          "name": "stdout",
          "text": [
            "Enter the count of numbers: 5\n",
            "Enter a number: 1\n",
            "Enter a number: 2\n",
            "Enter a number: 3\n",
            "Enter a number: 4\n",
            "Enter a number: 5\n",
            "The product of the numbers is:  120\n"
          ]
        }
      ]
    },
    {
      "cell_type": "code",
      "source": [
        "from numpy import pi\n",
        "#Python program to find the circumference and area of a circle with a given radius\n",
        "radius = float(input(\"Enter the value of the radius: \"))\n",
        "cr = 2*pi*radius\n",
        "area = pi*radius**2\n",
        "print(\"The circumference of the circle is: \", cr)\n",
        "print(\"The area of the circle is: \",area)"
      ],
      "metadata": {
        "colab": {
          "base_uri": "https://localhost:8080/"
        },
        "id": "bDHT3FAS-_Qa",
        "outputId": "3a6020ee-e395-4a34-fd07-4a2e52203c90"
      },
      "execution_count": null,
      "outputs": [
        {
          "output_type": "stream",
          "name": "stdout",
          "text": [
            "Enter the value of the radius: 1\n",
            "The circumference of the circle is:  6.283185307179586\n",
            "The area of the circle is:  3.141592653589793\n"
          ]
        }
      ]
    },
    {
      "cell_type": "code",
      "source": [
        "#Python program to check whether the given integer is a multiple of 5\n",
        "x = int(input(\"Enter the number: \"))\n",
        "if x%5==0:\n",
        "  print(x, \"is a multiple of 5\")\n",
        "else:\n",
        "  print(x, \"is not a multiple of 5\")"
      ],
      "metadata": {
        "colab": {
          "base_uri": "https://localhost:8080/"
        },
        "id": "Eodx7diT_vlT",
        "outputId": "5f8832b0-e8c8-4f37-8f32-de8bf3282d74"
      },
      "execution_count": null,
      "outputs": [
        {
          "output_type": "stream",
          "name": "stdout",
          "text": [
            "Enter the number: 17\n",
            "17 is not a multiple of 5\n"
          ]
        }
      ]
    },
    {
      "cell_type": "code",
      "source": [
        "#Python program to check whether the given integer is a multiple of both 5 and 7\n",
        "y = int(input(\"Enter a number: \"))\n",
        "if y%5==0 and y%7==0:\n",
        "  print(\"The number is a multiple of both 5 and 7\")\n",
        "else:\n",
        "  print(\"Not a multiple\")"
      ],
      "metadata": {
        "colab": {
          "base_uri": "https://localhost:8080/"
        },
        "id": "nbF0kSiEAKGu",
        "outputId": "60c8b084-f997-42b6-e27c-3bd39cb25798"
      },
      "execution_count": null,
      "outputs": [
        {
          "output_type": "stream",
          "name": "stdout",
          "text": [
            "Enter a number: 49\n",
            "Not a multiple\n"
          ]
        }
      ]
    },
    {
      "cell_type": "code",
      "source": [
        "#Python program to find the average of first 10 numbers using while loop\n",
        "i = 1\n",
        "sum = 0\n",
        "while i<10:\n",
        "  sum = sum+i\n",
        "  i+=1\n",
        "avg = sum/10\n",
        "print(\"The sum of the numbers is: \", sum)\n",
        "print(\"The avg of the numbers is: \", avg)\n"
      ],
      "metadata": {
        "colab": {
          "base_uri": "https://localhost:8080/"
        },
        "id": "AJK-6BrRAr5I",
        "outputId": "51bfe86d-90d2-4093-85b0-69ce15b07046"
      },
      "execution_count": null,
      "outputs": [
        {
          "output_type": "stream",
          "name": "stdout",
          "text": [
            "The sum of the numbers is:  45\n",
            "The avg of the numbers is:  4.5\n"
          ]
        }
      ]
    },
    {
      "cell_type": "code",
      "source": [
        "#Python program to find the average of first 5 numbers using while loop user input\n",
        "i = 0\n",
        "sum = 0\n",
        "while i<5:\n",
        "  z = int(input(\"Enter a number: \"))\n",
        "  sum = sum+z\n",
        "  i+=1\n",
        "avg = sum/10\n",
        "print(\"The sum of the numbers is: \", sum)\n",
        "print(\"The avg of the numbers is: \", avg)"
      ],
      "metadata": {
        "colab": {
          "base_uri": "https://localhost:8080/"
        },
        "id": "V6BlK2aCBsLY",
        "outputId": "ab13997f-40ed-4309-8a0f-14b4d97b022a"
      },
      "execution_count": null,
      "outputs": [
        {
          "output_type": "stream",
          "name": "stdout",
          "text": [
            "Enter a number: 23\n",
            "Enter a number: 7\n",
            "Enter a number: 12\n",
            "Enter a number: 9\n",
            "Enter a number: 32\n",
            "The sum of the numbers is:  83\n",
            "The avg of the numbers is:  8.3\n"
          ]
        }
      ]
    },
    {
      "cell_type": "code",
      "source": [
        "#Python program to display the given integer in reverse manner\n",
        "i = input(\"Enter a number: \")\n",
        "r = i[::-1]\n",
        "print(\"The changed number is: \", r)"
      ],
      "metadata": {
        "colab": {
          "base_uri": "https://localhost:8080/"
        },
        "id": "EEA9Isc9CWv-",
        "outputId": "7457e5e5-8083-4de2-a4d7-9f2b5f89ac96"
      },
      "execution_count": null,
      "outputs": [
        {
          "output_type": "stream",
          "name": "stdout",
          "text": [
            "Enter a number: 273823\n",
            "The changed number is:  328372\n"
          ]
        }
      ]
    },
    {
      "cell_type": "code",
      "source": [
        "#Python program to find the sum of the digits of an integer using while loop\n",
        "a = int(input(\"Enter a number: \"))\n",
        "b = list(str(a))\n",
        "c = [eval(i) for i in b]\n",
        "sum = 0\n",
        "j = 0\n",
        "for j in c:\n",
        "  sum = sum+j\n",
        "  j=j+1\n",
        "print(\"The sum of the numbers is: \", sum)"
      ],
      "metadata": {
        "colab": {
          "base_uri": "https://localhost:8080/"
        },
        "id": "Df1TIwvmwMjP",
        "outputId": "48fc86a2-0464-463e-f4f0-fa63d877e5a0"
      },
      "execution_count": null,
      "outputs": [
        {
          "output_type": "stream",
          "name": "stdout",
          "text": [
            "Enter a number: 12345\n",
            "The sum of the numbers is:  15\n"
          ]
        }
      ]
    },
    {
      "cell_type": "code",
      "source": [
        "##Python program to find the sum of the digits of an integer using while loop\n",
        "sum = 0\n",
        "number = int(input(\"Enter an integer: \"))\n",
        "while(number!=0):\n",
        "    digit = number%10\n",
        "    sum = sum+digit\n",
        "    number = number//10\n",
        "print(\"Sum of digits is: \", sum)"
      ],
      "metadata": {
        "colab": {
          "base_uri": "https://localhost:8080/"
        },
        "id": "8qtGmX2O02GC",
        "outputId": "ff7acde5-9539-480d-ba10-6e57ac6ac629"
      },
      "execution_count": null,
      "outputs": [
        {
          "output_type": "stream",
          "name": "stdout",
          "text": [
            "Enter an integer: 1020\n",
            "Sum of digits is:  3\n"
          ]
        }
      ]
    },
    {
      "cell_type": "code",
      "source": [
        "#Python program to display all the multiples of 3 within the range 10 to 50\n",
        "mystr= \"The multiples are: \"\n",
        "for i in range(10,50):\n",
        "  if i%3==0:\n",
        "    print(i, end = \" \")"
      ],
      "metadata": {
        "colab": {
          "base_uri": "https://localhost:8080/"
        },
        "id": "pHsrUh6V09C5",
        "outputId": "48bbacd7-c2ec-4c53-a089-994de139e389"
      },
      "execution_count": null,
      "outputs": [
        {
          "output_type": "stream",
          "name": "stdout",
          "text": [
            "12 15 18 21 24 27 30 33 36 39 42 45 48 "
          ]
        }
      ]
    },
    {
      "cell_type": "code",
      "source": [
        "#Python program to display all integers within the range 100-200 whose sum of digits is an even number\n",
        "for i in range(100,200):\n",
        "  num = i\n",
        "  sum = 0\n",
        "  while num!=0:\n",
        "    digit = num%10\n",
        "    sum = sum+digit\n",
        "    num = num//10\n",
        "  if sum%2==0:\n",
        "    print(i, end=' ')"
      ],
      "metadata": {
        "colab": {
          "base_uri": "https://localhost:8080/"
        },
        "id": "CsGSyJNt6rCW",
        "outputId": "6116b125-8711-4754-d6cf-c1fb3e40c787"
      },
      "execution_count": null,
      "outputs": [
        {
          "output_type": "stream",
          "name": "stdout",
          "text": [
            "101 103 105 107 109 110 112 114 116 118 121 123 125 127 129 130 132 134 136 138 141 143 145 147 149 150 152 154 156 158 161 163 165 167 169 170 172 174 176 178 181 183 185 187 189 190 192 194 196 198 "
          ]
        }
      ]
    },
    {
      "cell_type": "code",
      "source": [
        "#Python program to check whether the given integer is a prime number or not\n",
        "isprime = 1\n",
        "a = int(input(\"Enter a number: \"))\n",
        "for i in range(2,a//2):\n",
        "  if a%i==0:\n",
        "    isprime = 0\n",
        "if isprime == 1:\n",
        "  print(\"Prime Number\")\n",
        "else:\n",
        "  print(\"Not Prime\")\n"
      ],
      "metadata": {
        "colab": {
          "base_uri": "https://localhost:8080/"
        },
        "id": "dqm4iNZaGDfE",
        "outputId": "24f80676-15b6-4ed8-ce52-c47d3477bc07"
      },
      "execution_count": null,
      "outputs": [
        {
          "output_type": "stream",
          "name": "stdout",
          "text": [
            "Enter a number: 5\n",
            "Prime Number\n"
          ]
        }
      ]
    },
    {
      "cell_type": "code",
      "source": [
        "#Python program to generate the prime numbers from 1 to N\n",
        "N = int(input(\"Enter a number: \"))\n",
        "isprime = 1\n",
        "for i in range(1, N):\n",
        "  for j in range(2,i):\n",
        "    if i%j==0:\n",
        "      break\n",
        "  else:\n",
        "    print(i,end =' ')\n"
      ],
      "metadata": {
        "colab": {
          "base_uri": "https://localhost:8080/"
        },
        "id": "Vm_D07wMGorU",
        "outputId": "49043403-aaf2-4402-9866-5dadcb17baa0"
      },
      "execution_count": null,
      "outputs": [
        {
          "output_type": "stream",
          "name": "stdout",
          "text": [
            "Enter a number: 15\n",
            "1 2 3 5 7 11 13 "
          ]
        }
      ]
    },
    {
      "cell_type": "code",
      "source": [
        "#Python program to print the numbers from a given number n till 0 using recursion\n",
        "s = int(input(\"Enter a number: \"))\n",
        "p = list(range(s+1))\n",
        "print(\"The original range: \", p)\n",
        "print(\"The inverted range: \",p[::-1])"
      ],
      "metadata": {
        "colab": {
          "base_uri": "https://localhost:8080/"
        },
        "id": "X1kVUpjwIb3a",
        "outputId": "44ed7dee-1576-4897-b5b1-17161253d537"
      },
      "execution_count": null,
      "outputs": [
        {
          "output_type": "stream",
          "name": "stdout",
          "text": [
            "Enter a number: 7\n",
            "The original range:  [0, 1, 2, 3, 4, 5, 6, 7]\n",
            "The inverted range:  [7, 6, 5, 4, 3, 2, 1, 0]\n"
          ]
        }
      ]
    },
    {
      "cell_type": "code",
      "source": [
        "#Python program to display the sum of n numbers using a list\n",
        "from numpy import *\n",
        "numbers = []\n",
        "count = int(input(\"How many numbers are there? \"))\n",
        "for i in range(count):\n",
        "  x = int(input(\"Enter the number: \"))\n",
        "  numbers.append(x)\n",
        "print(numbers,\":\",sum(numbers))"
      ],
      "metadata": {
        "colab": {
          "base_uri": "https://localhost:8080/"
        },
        "id": "qYuMRM_TmcmU",
        "outputId": "270be781-c531-4b39-fd51-2913364e21b1"
      },
      "execution_count": null,
      "outputs": [
        {
          "output_type": "stream",
          "name": "stdout",
          "text": [
            "How many numbers are there? 5\n",
            "Enter the number: 1\n",
            "Enter the number: 2\n",
            "Enter the number: 3\n",
            "Enter the number: 4\n",
            "Enter the number: 5\n",
            "[1, 2, 3, 4, 5] : 15\n"
          ]
        }
      ]
    },
    {
      "cell_type": "code",
      "source": [
        "#Python program to implement linear search\n",
        "numbers = [4,5,8,1,7,3,9]\n",
        "x = int(input(\"Enter the number to be found: \"))\n",
        "for i in numbers:\n",
        "  if x==i:\n",
        "    print(\"Number found\")\n",
        "    break\n",
        "else:\n",
        "    print(\"Not found\")"
      ],
      "metadata": {
        "colab": {
          "base_uri": "https://localhost:8080/"
        },
        "id": "DIzpdjstJjbB",
        "outputId": "6ac93f64-f37a-4bb8-cffa-0d53c55a5ca4"
      },
      "execution_count": 8,
      "outputs": [
        {
          "output_type": "stream",
          "name": "stdout",
          "text": [
            "Enter the number to be found: 5\n",
            "Number found\n"
          ]
        }
      ]
    },
    {
      "cell_type": "code",
      "source": [
        "#Python program to implement linear search from user input\n",
        "numbers = []\n",
        "count = int(input(\"Enter the number of elements in list: \"))\n",
        "for i in range(count):\n",
        "  x = input(\"Enter the element of list: \")\n",
        "  numbers.append(x)\n",
        "\n",
        "#Find the element from the list\n",
        "find = input(\"Enter the value that you want to find: \")\n",
        "for j in numbers:\n",
        "  if find == j:\n",
        "    print(find, \": Value found\")\n",
        "    break\n",
        "else:\n",
        "  print(find, \": Not found\")"
      ],
      "metadata": {
        "colab": {
          "base_uri": "https://localhost:8080/"
        },
        "id": "7KcmfKBLLHXX",
        "outputId": "5cd9208e-9c04-454f-a502-707c4ee9cb04"
      },
      "execution_count": 19,
      "outputs": [
        {
          "output_type": "stream",
          "name": "stdout",
          "text": [
            "Enter the number of elements in list: 5\n",
            "Enter the element of list: hi\n",
            "Enter the element of list: I\n",
            "Enter the element of list: am\n",
            "Enter the element of list: shailvi\n",
            "Enter the element of list: 21\n",
            "Enter the value that you want to find: rahul\n",
            "rahul : Not found\n"
          ]
        }
      ]
    },
    {
      "cell_type": "code",
      "source": [
        "#Python program to find if a number is odd or even\n",
        "value = int(input(\"Enter the number: \"))\n",
        "if value%2 == 0:\n",
        "  print(\"The number is even\")\n",
        "else:\n",
        "  print(\"The number is odd\")"
      ],
      "metadata": {
        "colab": {
          "base_uri": "https://localhost:8080/"
        },
        "id": "6vf_UttpOYHe",
        "outputId": "7de871f4-9bc1-4563-db7d-9e458331d3e4"
      },
      "execution_count": 22,
      "outputs": [
        {
          "output_type": "stream",
          "name": "stdout",
          "text": [
            "Enter the number: 12\n",
            "The number is even\n"
          ]
        }
      ]
    },
    {
      "cell_type": "code",
      "source": [
        "#Python program to find the odd numbers in an array\n",
        "odd_nums = []\n",
        "even_nums = []\n",
        "nums = [1,2,3,4,5,6,7,8,9]\n",
        "for i in nums:\n",
        "  if i%2!=0:\n",
        "    odd_nums.append(i)\n",
        "  else:\n",
        "    even_nums.append(i)\n",
        "print(\"Odd numbers are:\", odd_nums)\n",
        "print(\"Even numbers are: \", even_nums)"
      ],
      "metadata": {
        "colab": {
          "base_uri": "https://localhost:8080/"
        },
        "id": "E93AgGBONVqj",
        "outputId": "65d86383-bc5c-4525-96db-392e0f0f6bf2"
      },
      "execution_count": 31,
      "outputs": [
        {
          "output_type": "stream",
          "name": "stdout",
          "text": [
            "Odd numbers are: [1, 3, 5, 7, 9]\n",
            "Even numbers are:  [2, 4, 6, 8]\n"
          ]
        }
      ]
    },
    {
      "cell_type": "code",
      "source": [
        "#Python program to find the largest number in a list without using built-in functions\n",
        "numbers = [3,8,1,7,2,9,5,4]\n",
        "big = numbers[0]\n",
        "position = 0\n",
        "for i in range(len(numbers)):\n",
        "    if (numbers[i]>big):\n",
        "        big = numbers[i]\n",
        "        position = i\n",
        "print(\"The largest element is \",big)"
      ],
      "metadata": {
        "colab": {
          "base_uri": "https://localhost:8080/"
        },
        "id": "i2JgJqu0QBoi",
        "outputId": "cf759b8a-9fff-419a-f381-1c170a6057ba"
      },
      "execution_count": 35,
      "outputs": [
        {
          "output_type": "stream",
          "name": "stdout",
          "text": [
            "The largest element is  9\n"
          ]
        }
      ]
    },
    {
      "cell_type": "code",
      "source": [
        "#Python program to insert a number to any position in a list\n",
        "lis = [4,25,6,3,8,33]\n",
        "lis.insert(3,21)\n",
        "print(lis)"
      ],
      "metadata": {
        "colab": {
          "base_uri": "https://localhost:8080/"
        },
        "id": "ns4Fm5f6Rg7s",
        "outputId": "7f5181aa-b8af-40fa-b7ea-a397e31ba7d7"
      },
      "execution_count": 36,
      "outputs": [
        {
          "output_type": "stream",
          "name": "stdout",
          "text": [
            "[4, 25, 6, 21, 3, 8, 33]\n"
          ]
        }
      ]
    },
    {
      "cell_type": "code",
      "source": [
        "#Python program to insert a number to any position in a list from user input\n",
        "count = int(input(\"Enter the number of elements in the list \"))\n",
        "lis = []\n",
        "for i in range(count):\n",
        "  t = input(\"Enter the value: \")\n",
        "  lis.append(t)\n",
        "print(lis)\n",
        "\n",
        "#Enter another value in the list from user input\n",
        "p = int(input(\"Enter the position of the new element \"))\n",
        "e = input(\"Enter the element \")\n",
        "lis.insert(p,e)\n",
        "print(lis)"
      ],
      "metadata": {
        "colab": {
          "base_uri": "https://localhost:8080/"
        },
        "id": "9W7N8uz0R78O",
        "outputId": "9761f153-e696-4e70-a96f-512b96d43f00"
      },
      "execution_count": 41,
      "outputs": [
        {
          "output_type": "stream",
          "name": "stdout",
          "text": [
            "Enter the number of elements in the list 3\n",
            "Enter the value: hi\n",
            "Enter the value: am\n",
            "Enter the value: shailvi\n",
            "['hi', 'am', 'shailvi']\n",
            "Enter the position of the new element 1\n",
            "Enter the element I\n",
            "['hi', 'I', 'am', 'shailvi']\n"
          ]
        }
      ]
    },
    {
      "cell_type": "code",
      "source": [
        "#Python program to delete an element from a list by index\n",
        "l = [1,2,3,4,5,6]\n",
        "l.pop(2)\n",
        "print(l)"
      ],
      "metadata": {
        "colab": {
          "base_uri": "https://localhost:8080/"
        },
        "id": "73adh5N5TIsO",
        "outputId": "444dc8ee-30bb-4a44-d98a-1ab9bc32995c"
      },
      "execution_count": 42,
      "outputs": [
        {
          "output_type": "stream",
          "name": "stdout",
          "text": [
            "[1, 2, 4, 5, 6]\n"
          ]
        }
      ]
    },
    {
      "cell_type": "code",
      "source": [
        "#Python program to delete an element from a list by index\n",
        "L = list(range(1,11))\n",
        "print(L)\n",
        "D = int(input(\"Enter the position of the element to be deleted \"))\n",
        "L.pop(D)\n",
        "print(L)"
      ],
      "metadata": {
        "colab": {
          "base_uri": "https://localhost:8080/"
        },
        "id": "1MBM3-smTZia",
        "outputId": "70da37be-ed99-4976-9ee3-11de14c4b5f6"
      },
      "execution_count": 46,
      "outputs": [
        {
          "output_type": "stream",
          "name": "stdout",
          "text": [
            "[1, 2, 3, 4, 5, 6, 7, 8, 9, 10]\n",
            "Enter the position of the element to be deleted 2\n",
            "[1, 2, 4, 5, 6, 7, 8, 9, 10]\n"
          ]
        }
      ]
    },
    {
      "cell_type": "code",
      "source": [
        "#Python program to check whether a string is palindrome or not\n",
        "f = input(\"Enter a string: \")\n",
        "g = f[::-1]\n",
        "print(f,g)\n",
        "if g==f:\n",
        "  print(\"String is palindrome\")\n",
        "else:\n",
        "  print(\"Not a palindrome\")\n"
      ],
      "metadata": {
        "colab": {
          "base_uri": "https://localhost:8080/"
        },
        "id": "m5rRR7U8UIw_",
        "outputId": "4d37927d-aa21-421f-af9d-21ad60ae71e9"
      },
      "execution_count": 50,
      "outputs": [
        {
          "output_type": "stream",
          "name": "stdout",
          "text": [
            "Enter a string: level\n",
            "level level\n",
            "String is palindrome\n"
          ]
        }
      ]
    },
    {
      "cell_type": "code",
      "source": [
        "#Python program to check leap year\n",
        "y = int(input(\"Enter a year \"))\n",
        "if y%4==0:\n",
        "  print(\"Leap year\")\n",
        "else:\n",
        "  print(\"Not leap year\")"
      ],
      "metadata": {
        "colab": {
          "base_uri": "https://localhost:8080/"
        },
        "id": "v4PhdQrnU2sq",
        "outputId": "e437d39f-5bcc-4925-e3c6-d0aa154c5f29"
      },
      "execution_count": 58,
      "outputs": [
        {
          "output_type": "stream",
          "name": "stdout",
          "text": [
            "Enter a year 2200\n",
            "Leap year\n"
          ]
        }
      ]
    }
  ]
}